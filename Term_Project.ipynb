{
 "cells": [
  {
   "cell_type": "markdown",
   "id": "c5e42827",
   "metadata": {},
   "source": [
    "## Problem statement: <br>\n",
    "We need to create a model that can accurately predict future stock market prices using machine learning and previous stock market datasets.\n",
    "\n",
    "**Dataset description:** <br>\n",
    "In order to model the stock market, we have chosen a dataset from Kaggle with 8,500 files, each containing dense information from all US-based stocks, including ETFs trading on the New York Stock Exchange (NYSE), NASDAQ, and the NYSE MKT: \n",
    "https://www.kaggle.com/borismarjanovic/price-volume-data-for-all-us-stocks-etfs. <br>\n",
    "It is difficult but crucial to acquire high-quality data since the results of the model will be largely dependent on the accuracy and validity of the data. Incomplete datasets where there are missing data values for certain values can cause inconsistencies and introduce biases in the model if we have to remove entire instances or give default values to certain attributes. For these reasons, we made sure to find a high-quality financial data set that contains full historical daily price and volume data, last updated on November 10, 2017 by Boris Marjanovic. The dataset includes the following attributes: Date, Open, High, Low, Close, Volume, OpenInt for each stock, where each CSV file contains hundreds of rows – each corresponding to an instance in our dataset which is a single stock. Open represents the opening price, High and Low represent the corresponding maximum and minimum price during the day, Close represents the close price as adjusted for splits, Volume measures the number of shares that exchanges hands throughout the day, and OpenInt to represent Open Interest. Prices have been adjusted to account for dividends and splits.\n",
    "\n",
    "**Goals:** <br>\n",
    "Our goal is to build an accurate model that can predict the prices of certain US stocks based on various variables. With high-quality data that will undergo thorough data cleaning through a data processing stage, we want to predict the ups and downs of the stock market and create a well documented model and frontend that is both intuitive and easy for users and developers.\n",
    "\n",
    "**Timeline:** <br>\n",
    "Data cleaning/visualization 4/20 <br>\n",
    "Initial machine learning, training model 4/25 <br>\n",
    "Improve our model, testing for overfitting/underfitting (QA)  5/1 <br>\n",
    "Build frontend for model 5/6 <br>\n",
    "Write documentation for model 5/10 <br>\n",
    "Test frontend 5/15 <br>\n",
    "Presentations start 5/31 <br>\n",
    "\n",
    "The timeline is subject to change based on our availability throughout the quarter. \n"
   ]
  },
  {
   "cell_type": "code",
   "execution_count": null,
   "id": "df56ace3",
   "metadata": {},
   "outputs": [],
   "source": [
    "# imports\n",
    "import pandas as pd\n",
    "import numpy as np\n",
    "\n",
    "import matplotlib.pyplot as plt\n",
    "import seaborn as sns\n",
    "\n",
    "from sklearn.model_selection import train_test_split\n",
    "from sklearn.linear_model import LinearRegression\n",
    "from sklearn.preprocessing import PolynomialFeatures\n"
   ]
  },
  {
   "cell_type": "markdown",
   "id": "b682335c",
   "metadata": {},
   "source": [
    "## Data Cleaning"
   ]
  },
  {
   "cell_type": "code",
   "execution_count": 1,
   "id": "4786ff06",
   "metadata": {},
   "outputs": [],
   "source": [
    "# import dataset\n",
    "# we have a few options here: \n",
    "# 1. choose a specific industry/sector to look at and then pull stocks/ETFs from that industry to analyze\n",
    "# 2. choose more broad world/US market ETFs to analyze \n",
    "# 3. choose a few closely related companies (competitors) and analyze them \n",
    "# 4. any other suggestions"
   ]
  },
  {
   "cell_type": "code",
   "execution_count": null,
   "id": "adacc1fb",
   "metadata": {},
   "outputs": [],
   "source": []
  }
 ],
 "metadata": {
  "kernelspec": {
   "display_name": "Python 3 (ipykernel)",
   "language": "python",
   "name": "python3"
  },
  "language_info": {
   "codemirror_mode": {
    "name": "ipython",
    "version": 3
   },
   "file_extension": ".py",
   "mimetype": "text/x-python",
   "name": "python",
   "nbconvert_exporter": "python",
   "pygments_lexer": "ipython3",
   "version": "3.9.16"
  }
 },
 "nbformat": 4,
 "nbformat_minor": 5
}
