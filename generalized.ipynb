{
 "cells": [
  {
   "cell_type": "code",
   "execution_count": 1,
   "metadata": {},
   "outputs": [],
   "source": [
    "# Imports\n",
    "import pandas as pd\n",
    "\n",
    "import numpy as np\n",
    "\n",
    "import matplotlib.pyplot as plt\n",
    "\n",
    "from sklearn.preprocessing import MinMaxScaler\n",
    "from sklearn.metrics import mean_squared_error, r2_score\n",
    "from sklearn.metrics import r2_score\n",
    "\n",
    "import tensorflow as tf\n",
    "from tensorflow.keras.models import Sequential\n",
    "from tensorflow.keras.layers import LSTM, Dense, Dropout\n",
    "\n",
    "import pickle "
   ]
  },
  {
   "cell_type": "code",
   "execution_count": 2,
   "metadata": {},
   "outputs": [],
   "source": [
    "train_stocks = ['aapl', 'msft', 'amzn', 'nvda', 'googl']\n",
    "test_stocks = ['ge', 'ibm', 'mo', 'hpq', 'ko']\n",
    "spy_companies = ['aapl', 'msft', 'amzn', 'nvda', 'googl', 'brk-b', 'goog', 'fb', 'xom', 'unh', 'tsla', 'jnj', 'jpm', 'v', \n",
    "                'pg', 'ma', 'lly', 'hd', 'cvx', 'mrk', 'abbv', 'pep', 'avgo', 'ko', 'cost', 'pfe', 'crm', 'mcd', 'wmt', \n",
    "                'tmo', 'csco', 'bac', 'amd', 'acn','adbe', 'abt', 'cmcsa', 'dis', 'orcl', 'nflx', 'wfc', 'txn', 'dhr',\n",
    "                'vz', 'nee', 'pm', 'bmy', 'nke'\n",
    "                ]"
   ]
  },
  {
   "cell_type": "code",
   "execution_count": 3,
   "metadata": {},
   "outputs": [],
   "source": [
    "def preprocess_data(name, timestep = 50, date = None):\n",
    "    scaler = MinMaxScaler()\n",
    "\n",
    "    data = pd.read_csv(f'stocks\\\\{name}.us.txt')\n",
    "    data['Date'] = pd.to_datetime(data['Date'])\n",
    "\n",
    "    if date:\n",
    "        start_date = data['Date'] >= date\n",
    "        data = data[start_date]\n",
    "\n",
    "    data = data.iloc[:,[1,4]].values\n",
    "    data = data.reshape(-1, 1)\n",
    "    scaled_data = scaler.fit_transform(data)\n",
    "\n",
    "    X_train = []\n",
    "    y_train = []\n",
    "    for i in range(timestep, len(data)):\n",
    "        X_train.append(scaled_data[i - timestep:i, 0])\n",
    "        y_train.append(scaled_data[i, 0])\n",
    "\n",
    "    X_train, y_train = np.array(X_train), np.array(y_train)\n",
    "    X_train = np.reshape(X_train, (X_train.shape[0], X_train.shape[1], 1))\n",
    "    \n",
    "    return X_train, y_train"
   ]
  },
  {
   "cell_type": "code",
   "execution_count": 4,
   "metadata": {},
   "outputs": [],
   "source": [
    "def train_data(names, timestep = 50, date = None, epochs = 50, batch_size = 32, dropout = 0.2, units = 50, optimizer = 'adam', loss = 'mean_squared_error'):\n",
    "    model = Sequential()\n",
    "\n",
    "    model.add(LSTM(units=units, return_sequences=True, input_shape=(timestep, 1)))\n",
    "    model.add(Dropout(dropout))\n",
    "\n",
    "    model.add(LSTM(units=units, return_sequences=True))\n",
    "    model.add(Dropout(dropout))\n",
    "\n",
    "    model.add(LSTM(units=units, return_sequences=True))\n",
    "    model.add(Dropout(dropout))\n",
    "\n",
    "    model.add(LSTM(units=units))\n",
    "    model.add(Dropout(dropout))\n",
    "\n",
    "    model.add(Dense(units=1))\n",
    "\n",
    "    model.compile(optimizer=optimizer, loss=loss)\n",
    "\n",
    "    for name in names:\n",
    "        X_train, y_train = preprocess_data(name, timestep = timestep, date = date)\n",
    "        model.fit(X_train, y_train, epochs = epochs, batch_size = batch_size)\n",
    "    \n",
    "    return model"
   ]
  },
  {
   "cell_type": "code",
   "execution_count": 5,
   "metadata": {},
   "outputs": [],
   "source": [
    "def predict_data(model, names, timestep = 50, date = None):\n",
    "    for name in names:\n",
    "        scaler = MinMaxScaler()\n",
    "\n",
    "        # data = pd.read_csv(f'stocks\\\\{name}.us.txt')\n",
    "        data = pd.read_csv(f'us_etf_stocks_dataset\\\\stocks\\\\{name.lower()}.us.txt')\n",
    "\n",
    "        if date:\n",
    "            start_date = data['Date'] >= date\n",
    "            data = data[start_date]\n",
    "\n",
    "        data = data.iloc[:,[1,4]].values\n",
    "        data = data.reshape(-1, 1)\n",
    "        scaled_data = scaler.fit_transform(data)\n",
    "\n",
    "        X_test = []\n",
    "        for i in range(timestep, len(scaled_data)):\n",
    "            X_test.append(scaled_data[i - timestep:i, 0])\n",
    "        \n",
    "        X_test = np.array(X_test)\n",
    "        X_test = np.reshape(X_test, (X_test.shape[0], X_test.shape[1], 1))\n",
    "\n",
    "        prediction = model.predict(X_test)\n",
    "        prediction = scaler.inverse_transform(prediction)\n",
    "\n",
    "        print(f'MSE: {mean_squared_error(data[timestep:], prediction)}')\n",
    "        print(f'R2: {r2_score(data[timestep:], prediction)}')\n",
    "\n",
    "        name = name.upper()\n",
    "        plt.plot(data[timestep:], color = 'black', label = f'Actual {name} Stock Price')\n",
    "        plt.plot(prediction, color = 'green', label = f'Predicted {name} Stock Price')\n",
    "        plt.title(f'{name} Stock Price Prediction')\n",
    "        plt.xlabel('Time')\n",
    "        plt.ylabel('Stock Price')\n",
    "        plt.legend()\n",
    "        plt.show()"
   ]
  },
  {
   "cell_type": "code",
   "execution_count": 10,
   "metadata": {},
   "outputs": [
    {
     "name": "stdout",
     "output_type": "stream",
     "text": [
      "Epoch 1/10\n",
      "140/140 [==============================] - 23s 100ms/step - loss: 0.0047\n",
      "Epoch 2/10\n",
      "140/140 [==============================] - 13s 93ms/step - loss: 0.0013\n",
      "Epoch 3/10\n",
      "140/140 [==============================] - 15s 108ms/step - loss: 0.0011\n",
      "Epoch 4/10\n",
      "140/140 [==============================] - 15s 108ms/step - loss: 0.0011\n",
      "Epoch 5/10\n",
      "140/140 [==============================] - 15s 107ms/step - loss: 0.0010\n",
      "Epoch 6/10\n",
      "140/140 [==============================] - 15s 108ms/step - loss: 8.7623e-04\n",
      "Epoch 7/10\n",
      "140/140 [==============================] - 15s 110ms/step - loss: 8.9406e-04\n",
      "Epoch 8/10\n",
      "140/140 [==============================] - 15s 105ms/step - loss: 8.2268e-04\n",
      "Epoch 9/10\n",
      "140/140 [==============================] - 16s 115ms/step - loss: 8.0879e-04\n",
      "Epoch 10/10\n",
      "140/140 [==============================] - 15s 108ms/step - loss: 8.0488e-04\n",
      "Epoch 1/10\n",
      "140/140 [==============================] - 16s 115ms/step - loss: 5.7860e-04\n",
      "Epoch 2/10\n",
      "140/140 [==============================] - 16s 113ms/step - loss: 5.6955e-04\n",
      "Epoch 3/10\n",
      "140/140 [==============================] - 15s 110ms/step - loss: 5.3448e-04\n",
      "Epoch 4/10\n",
      "140/140 [==============================] - 16s 112ms/step - loss: 5.2184e-04\n",
      "Epoch 5/10\n",
      "140/140 [==============================] - 15s 108ms/step - loss: 5.0926e-04\n",
      "Epoch 6/10\n",
      "140/140 [==============================] - 16s 115ms/step - loss: 4.6454e-04\n",
      "Epoch 7/10\n",
      "140/140 [==============================] - 16s 112ms/step - loss: 4.6017e-04\n",
      "Epoch 8/10\n",
      "121/140 [========================>.....] - ETA: 2s - loss: 4.7465e-04"
     ]
    }
   ],
   "source": [
    "model = train_data(train_stocks, timestep=50, date = '2000-01-01', epochs = 10, batch_size = 64)"
   ]
  },
  {
   "cell_type": "code",
   "execution_count": null,
   "metadata": {},
   "outputs": [],
   "source": [
    "#!pip install pyyaml h5py"
   ]
  },
  {
   "cell_type": "code",
   "execution_count": null,
   "metadata": {},
   "outputs": [
    {
     "ename": "NameError",
     "evalue": "name 'model' is not defined",
     "output_type": "error",
     "traceback": [
      "\u001b[1;31m---------------------------------------------------------------------------\u001b[0m",
      "\u001b[1;31mNameError\u001b[0m                                 Traceback (most recent call last)",
      "Cell \u001b[1;32mIn[6], line 1\u001b[0m\n\u001b[1;32m----> 1\u001b[0m model\u001b[39m.\u001b[39msave(\u001b[39m'\u001b[39m\u001b[39mgeneralized_model.h5\u001b[39m\u001b[39m'\u001b[39m)\n",
      "\u001b[1;31mNameError\u001b[0m: name 'model' is not defined"
     ]
    }
   ],
   "source": [
    "model.save('generalized_model.h5')"
   ]
  },
  {
   "cell_type": "code",
   "execution_count": null,
   "metadata": {},
   "outputs": [],
   "source": [
    "model = tf.keras.models.load_model('generalized_model.h5', compile=False) "
   ]
  },
  {
   "cell_type": "code",
   "execution_count": null,
   "metadata": {
    "scrolled": false
   },
   "outputs": [
    {
     "ename": "NameError",
     "evalue": "name 'model' is not defined",
     "output_type": "error",
     "traceback": [
      "\u001b[1;31m---------------------------------------------------------------------------\u001b[0m",
      "\u001b[1;31mNameError\u001b[0m                                 Traceback (most recent call last)",
      "Cell \u001b[1;32mIn[9], line 1\u001b[0m\n\u001b[1;32m----> 1\u001b[0m predict_data(model, [\u001b[39m'\u001b[39m\u001b[39mwmt\u001b[39m\u001b[39m'\u001b[39m, \u001b[39m'\u001b[39m\u001b[39mtsla\u001b[39m\u001b[39m'\u001b[39m, \u001b[39m'\u001b[39m\u001b[39mbABA\u001b[39m\u001b[39m'\u001b[39m, \u001b[39m'\u001b[39m\u001b[39metsy\u001b[39m\u001b[39m'\u001b[39m, \u001b[39m'\u001b[39m\u001b[39mlc\u001b[39m\u001b[39m'\u001b[39m, \u001b[39m'\u001b[39m\u001b[39mc\u001b[39m\u001b[39m'\u001b[39m], date \u001b[39m=\u001b[39m \u001b[39m'\u001b[39m\u001b[39m2000-00-00\u001b[39m\u001b[39m'\u001b[39m)\n",
      "\u001b[1;31mNameError\u001b[0m: name 'model' is not defined"
     ]
    }
   ],
   "source": [
    "predict_data(model, ['wmt', 'tsla', 'bABA', 'etsy', 'lc', 'c'], date = '2000-00-00')"
   ]
  }
 ],
 "metadata": {
  "kernelspec": {
   "display_name": "Python 3 (ipykernel)",
   "language": "python",
   "name": "python3"
  },
  "language_info": {
   "codemirror_mode": {
    "name": "ipython",
    "version": 3
   },
   "file_extension": ".py",
   "mimetype": "text/x-python",
   "name": "python",
   "nbconvert_exporter": "python",
   "pygments_lexer": "ipython3",
   "version": "3.9.16"
  }
 },
 "nbformat": 4,
 "nbformat_minor": 2
}
