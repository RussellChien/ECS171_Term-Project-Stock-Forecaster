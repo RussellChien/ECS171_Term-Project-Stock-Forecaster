{
 "cells": [
  {
   "cell_type": "code",
   "execution_count": 13,
   "metadata": {},
   "outputs": [
    {
     "name": "stderr",
     "output_type": "stream",
     "text": [
      "'pwd' is not recognized as an internal or external command,\n",
      "operable program or batch file.\n"
     ]
    }
   ],
   "source": [
    "import numpy as np\n",
    "from flask import Flask, request, jsonify, render_template\n",
    "import pickle\n",
    "import tensorflow as tf\n",
    "from tensorflow import keras\n",
    "import pandas as pd\n",
    "!pwd\n",
    "#!pip install flask"
   ]
  },
  {
   "cell_type": "code",
   "execution_count": 2,
   "metadata": {},
   "outputs": [
    {
     "name": "stderr",
     "output_type": "stream",
     "text": [
      "2023-06-01 15:27:31.250481: I tensorflow/core/platform/cpu_feature_guard.cc:193] This TensorFlow binary is optimized with oneAPI Deep Neural Network Library (oneDNN) to use the following CPU instructions in performance-critical operations:  AVX2 FMA\n",
      "To enable them in other operations, rebuild TensorFlow with the appropriate compiler flags.\n"
     ]
    },
    {
     "name": "stdout",
     "output_type": "stream",
     "text": [
      "Model: \"sequential\"\n",
      "_________________________________________________________________\n",
      " Layer (type)                Output Shape              Param #   \n",
      "=================================================================\n",
      " lstm (LSTM)                 (None, 50, 50)            10400     \n",
      "                                                                 \n",
      " dropout (Dropout)           (None, 50, 50)            0         \n",
      "                                                                 \n",
      " lstm_1 (LSTM)               (None, 50, 50)            20200     \n",
      "                                                                 \n",
      " dropout_1 (Dropout)         (None, 50, 50)            0         \n",
      "                                                                 \n",
      " lstm_2 (LSTM)               (None, 50, 50)            20200     \n",
      "                                                                 \n",
      " dropout_2 (Dropout)         (None, 50, 50)            0         \n",
      "                                                                 \n",
      " lstm_3 (LSTM)               (None, 50)                20200     \n",
      "                                                                 \n",
      " dropout_3 (Dropout)         (None, 50)                0         \n",
      "                                                                 \n",
      " dense (Dense)               (None, 1)                 51        \n",
      "                                                                 \n",
      "=================================================================\n",
      "Total params: 71,051\n",
      "Trainable params: 71,051\n",
      "Non-trainable params: 0\n",
      "_________________________________________________________________\n"
     ]
    }
   ],
   "source": [
    "gen_model = tf.keras.models.load_model('generalized_model.h5', compile=False) \n",
    "gen_model.summary()"
   ]
  },
  {
   "cell_type": "code",
   "execution_count": 38,
   "metadata": {},
   "outputs": [],
   "source": [
    "#test model on input data\n",
    "#path = '/Users/chitramac/Desktop/archive/'\n",
    "path = 'us_etf_stocks_dataset\\\\'\n",
    "from sklearn.preprocessing import MinMaxScaler\n",
    "from sklearn.metrics import mean_squared_error\n",
    "from sklearn.metrics import r2_score\n",
    "import matplotlib.pyplot as plt\n",
    "\n",
    "def predict_data(model, names, timestep = 50, date = None):\n",
    "    for name in names:\n",
    "        scaler = MinMaxScaler()\n",
    "\n",
    "        data = pd.read_csv(path + f'Stocks\\\\{name}.us.txt')\n",
    "        #data = pd.read_csv(path + f'Stocks/{name.lower()}.us.txt')\n",
    "        if date:\n",
    "            start_date = data['Date'] >= date\n",
    "            data = data[start_date]\n",
    "\n",
    "\n",
    "        data = data['Open']\n",
    "        data = np.array(data)\n",
    "        data = data.reshape(-1, 1)\n",
    "        scaled_data = scaler.fit_transform(data)\n",
    "\n",
    "        X_test = []\n",
    "        for i in range(timestep, len(scaled_data)):\n",
    "            X_test.append(scaled_data[i - timestep:i, 0])\n",
    "        \n",
    "        X_test = np.array(X_test)\n",
    "        X_test = np.reshape(X_test, (X_test.shape[0], X_test.shape[1], 1))\n",
    "\n",
    "        prediction = model.predict(X_test)\n",
    "        prediction = scaler.inverse_transform(prediction)\n",
    "\n",
    "        MSE = mean_squared_error(data[timestep:], prediction)\n",
    "        R2 = r2_score(data[timestep:], prediction)\n",
    "\n",
    "        name = name.upper()\n",
    "        \n",
    "        plt.plot(data[timestep:], color = 'black', label = f'Actual {name} Stock Price')\n",
    "        plt.plot(prediction, color = 'green', label = f'Predicted {name} Stock Price')\n",
    "        plt.title(f'{name} Stock Price Prediction')\n",
    "        plt.xlabel('Time')\n",
    "        plt.ylabel('Stock Price')\n",
    "        plt.legend()\n",
    "        plt.savefig('./static/recent_img.png')\n",
    "        # plt.show()\n",
    "        plt.clf()\n",
    "        return(MSE, R2)\n"
   ]
  },
  {
   "cell_type": "code",
   "execution_count": 15,
   "metadata": {},
   "outputs": [
    {
     "name": "stdout",
     "output_type": "stream",
     "text": [
      "160/160 [==============================] - 3s 20ms/step\n",
      "MSE: 256.964804121623\n",
      "R2: 0.9955422338291552\n"
     ]
    },
    {
     "data": {
      "image/png": "[encoded data removed]",
      "text/plain": [
       "<Figure size 640x480 with 1 Axes>"
      ]
     },
     "metadata": {},
     "output_type": "display_data"
    }
   ],
   "source": [
    "a = predict_data(gen_model, [\"AMZN\", \"NVDA\"], timestep = 50, date = None)"
   ]
  },
  {
   "cell_type": "code",
   "execution_count": 48,
   "metadata": {},
   "outputs": [
    {
     "name": "stdout",
     "output_type": "stream",
     "text": [
      " * Serving Flask app '__main__'\n",
      " * Debug mode: off\n"
     ]
    },
    {
     "name": "stderr",
     "output_type": "stream",
     "text": [
      "WARNING: This is a development server. Do not use it in a production deployment. Use a production WSGI server instead.\n",
      " * Running on http://127.0.0.1:2000\n",
      "Press CTRL+C to quit\n",
      "127.0.0.1 - - [01/Jun/2023 17:08:27] \"GET / HTTP/1.1\" 200 -\n",
      "127.0.0.1 - - [01/Jun/2023 17:08:29] \"POST / HTTP/1.1\" 200 -\n"
     ]
    },
    {
     "name": "stdout",
     "output_type": "stream",
     "text": [
      "[Errno 2] No such file or directory: 'us_etf_stocks_dataset\\\\Stocks\\\\uber.us.txt'\n"
     ]
    },
    {
     "name": "stderr",
     "output_type": "stream",
     "text": [
      "127.0.0.1 - - [01/Jun/2023 17:08:31] \"POST / HTTP/1.1\" 200 -\n"
     ]
    },
    {
     "name": "stdout",
     "output_type": "stream",
     "text": [
      "[Errno 2] No such file or directory: 'us_etf_stocks_dataset\\\\Stocks\\\\lyft.us.txt'\n",
      "147/147 [==============================] - 3s 20ms/step\n"
     ]
    },
    {
     "name": "stderr",
     "output_type": "stream",
     "text": [
      "127.0.0.1 - - [01/Jun/2023 17:08:38] \"POST / HTTP/1.1\" 200 -\n",
      "127.0.0.1 - - [01/Jun/2023 17:08:38] \"GET /static/recent_img.png HTTP/1.1\" 200 -\n",
      "127.0.0.1 - - [01/Jun/2023 17:08:42] \"GET / HTTP/1.1\" 200 -\n"
     ]
    },
    {
     "name": "stdout",
     "output_type": "stream",
     "text": [
      "246/246 [==============================] - 5s 20ms/step\n"
     ]
    },
    {
     "name": "stderr",
     "output_type": "stream",
     "text": [
      "127.0.0.1 - - [01/Jun/2023 17:09:01] \"POST / HTTP/1.1\" 200 -\n",
      "127.0.0.1 - - [01/Jun/2023 17:09:01] \"GET /static/recent_img.png HTTP/1.1\" 200 -\n"
     ]
    },
    {
     "data": {
      "text/plain": [
       "<Figure size 640x480 with 0 Axes>"
      ]
     },
     "metadata": {},
     "output_type": "display_data"
    }
   ],
   "source": [
    "app = Flask(__name__)\n",
    "\n",
    "@app.route('/', methods=['GET'])\n",
    "def home():\n",
    "    return render_template(\"index.html\")\n",
    "\n",
    "@app.route('/', methods=['POST'])\n",
    "def predict():\n",
    "    values = list(request.form.values())\n",
    "    stockfilename = ''.join(values)\n",
    "\n",
    "    try:\n",
    "        # check if ticker is in our dataset\n",
    "        pd.read_csv(path + f'Stocks\\\\{stockfilename}.us.txt')\n",
    "\n",
    "        ans = predict_data(gen_model, [stockfilename], timestep=50, date=None)\n",
    "        return render_template(\"output.html\", data=ans)\n",
    "    \n",
    "    except Exception as e:\n",
    "        # Handle any other exceptions that may occur\n",
    "        error_msg = \"The stock ticker entered is not found. Please try another ticker.\" \n",
    "        print(e)\n",
    "        return render_template(\"index.html\", error=error_msg)\n",
    "\n",
    "\n",
    "if __name__ == \"__main__\":\n",
    "    app.run(port=2000, debug = False)"
   ]
  }
 ],
 "metadata": {
  "kernelspec": {
   "display_name": "Python 3",
   "language": "python",
   "name": "python3"
  },
  "language_info": {
   "codemirror_mode": {
    "name": "ipython",
    "version": 3
   },
   "file_extension": ".py",
   "mimetype": "text/x-python",
   "name": "python",
   "nbconvert_exporter": "python",
   "pygments_lexer": "ipython3",
   "version": "3.8.3"
  },
  "orig_nbformat": 4,
  "vscode": {
   "interpreter": {
    "hash": "aee8b7b246df8f9039afb4144a1f6fd8d2ca17a180786b69acc140d282b71a49"
   }
  }
 },
 "nbformat": 4,
 "nbformat_minor": 2
}
